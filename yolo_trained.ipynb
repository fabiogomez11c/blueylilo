{
 "cells": [
  {
   "cell_type": "code",
   "execution_count": 3,
   "metadata": {},
   "outputs": [],
   "source": [
    "import torch\n",
    "import cv2\n",
    "import numpy as np"
   ]
  },
  {
   "cell_type": "code",
   "execution_count": 4,
   "metadata": {},
   "outputs": [
    {
     "name": "stderr",
     "output_type": "stream",
     "text": [
      "Using cache found in /Users/fabio/.cache/torch/hub/ultralytics_yolov5_master\n",
      "YOLOv5 🚀 2023-4-7 Python-3.10.9 torch-2.0.0 CPU\n",
      "\n",
      "Fusing layers... \n",
      "Model summary: 157 layers, 7015519 parameters, 0 gradients, 15.8 GFLOPs\n",
      "Adding AutoShape... \n"
     ]
    }
   ],
   "source": [
    "model = torch.hub.load(\n",
    "    'ultralytics/yolov5',\n",
    "    'custom',\n",
    "    path='./yolov5/runs/train/exp3/weights/best.pt',\n",
    ")"
   ]
  },
  {
   "cell_type": "code",
   "execution_count": 5,
   "metadata": {},
   "outputs": [
    {
     "ename": "AttributeError",
     "evalue": "'NoneType' object has no attribute 'shape'",
     "output_type": "error",
     "traceback": [
      "\u001b[0;31m---------------------------------------------------------------------------\u001b[0m",
      "\u001b[0;31mAttributeError\u001b[0m                            Traceback (most recent call last)",
      "Cell \u001b[0;32mIn[5], line 24\u001b[0m\n\u001b[1;32m     21\u001b[0m ret, frames \u001b[39m=\u001b[39m video\u001b[39m.\u001b[39mread()\n\u001b[1;32m     23\u001b[0m \u001b[39m# result\u001b[39;00m\n\u001b[0;32m---> 24\u001b[0m result \u001b[39m=\u001b[39m model(frames)\n\u001b[1;32m     26\u001b[0m \u001b[39m# write the processed frames to the output video\u001b[39;00m\n\u001b[1;32m     27\u001b[0m out\u001b[39m.\u001b[39mwrite(np\u001b[39m.\u001b[39msqueeze(result\u001b[39m.\u001b[39mrender()))\n",
      "File \u001b[0;32m~/.local/share/virtualenvs/blueylilo-57HCMKa3/lib/python3.10/site-packages/torch/nn/modules/module.py:1501\u001b[0m, in \u001b[0;36mModule._call_impl\u001b[0;34m(self, *args, **kwargs)\u001b[0m\n\u001b[1;32m   1496\u001b[0m \u001b[39m# If we don't have any hooks, we want to skip the rest of the logic in\u001b[39;00m\n\u001b[1;32m   1497\u001b[0m \u001b[39m# this function, and just call forward.\u001b[39;00m\n\u001b[1;32m   1498\u001b[0m \u001b[39mif\u001b[39;00m \u001b[39mnot\u001b[39;00m (\u001b[39mself\u001b[39m\u001b[39m.\u001b[39m_backward_hooks \u001b[39mor\u001b[39;00m \u001b[39mself\u001b[39m\u001b[39m.\u001b[39m_backward_pre_hooks \u001b[39mor\u001b[39;00m \u001b[39mself\u001b[39m\u001b[39m.\u001b[39m_forward_hooks \u001b[39mor\u001b[39;00m \u001b[39mself\u001b[39m\u001b[39m.\u001b[39m_forward_pre_hooks\n\u001b[1;32m   1499\u001b[0m         \u001b[39mor\u001b[39;00m _global_backward_pre_hooks \u001b[39mor\u001b[39;00m _global_backward_hooks\n\u001b[1;32m   1500\u001b[0m         \u001b[39mor\u001b[39;00m _global_forward_hooks \u001b[39mor\u001b[39;00m _global_forward_pre_hooks):\n\u001b[0;32m-> 1501\u001b[0m     \u001b[39mreturn\u001b[39;00m forward_call(\u001b[39m*\u001b[39;49margs, \u001b[39m*\u001b[39;49m\u001b[39m*\u001b[39;49mkwargs)\n\u001b[1;32m   1502\u001b[0m \u001b[39m# Do not call functions when jit is used\u001b[39;00m\n\u001b[1;32m   1503\u001b[0m full_backward_hooks, non_full_backward_hooks \u001b[39m=\u001b[39m [], []\n",
      "File \u001b[0;32m~/.local/share/virtualenvs/blueylilo-57HCMKa3/lib/python3.10/site-packages/torch/utils/_contextlib.py:115\u001b[0m, in \u001b[0;36mcontext_decorator.<locals>.decorate_context\u001b[0;34m(*args, **kwargs)\u001b[0m\n\u001b[1;32m    112\u001b[0m \u001b[39m@functools\u001b[39m\u001b[39m.\u001b[39mwraps(func)\n\u001b[1;32m    113\u001b[0m \u001b[39mdef\u001b[39;00m \u001b[39mdecorate_context\u001b[39m(\u001b[39m*\u001b[39margs, \u001b[39m*\u001b[39m\u001b[39m*\u001b[39mkwargs):\n\u001b[1;32m    114\u001b[0m     \u001b[39mwith\u001b[39;00m ctx_factory():\n\u001b[0;32m--> 115\u001b[0m         \u001b[39mreturn\u001b[39;00m func(\u001b[39m*\u001b[39;49margs, \u001b[39m*\u001b[39;49m\u001b[39m*\u001b[39;49mkwargs)\n",
      "File \u001b[0;32m~/.cache/torch/hub/ultralytics_yolov5_master/models/common.py:688\u001b[0m, in \u001b[0;36mAutoShape.forward\u001b[0;34m(self, ims, size, augment, profile)\u001b[0m\n\u001b[1;32m    686\u001b[0m     im, f \u001b[39m=\u001b[39m np\u001b[39m.\u001b[39masarray(exif_transpose(im)), \u001b[39mgetattr\u001b[39m(im, \u001b[39m'\u001b[39m\u001b[39mfilename\u001b[39m\u001b[39m'\u001b[39m, f) \u001b[39mor\u001b[39;00m f\n\u001b[1;32m    687\u001b[0m files\u001b[39m.\u001b[39mappend(Path(f)\u001b[39m.\u001b[39mwith_suffix(\u001b[39m'\u001b[39m\u001b[39m.jpg\u001b[39m\u001b[39m'\u001b[39m)\u001b[39m.\u001b[39mname)\n\u001b[0;32m--> 688\u001b[0m \u001b[39mif\u001b[39;00m im\u001b[39m.\u001b[39;49mshape[\u001b[39m0\u001b[39m] \u001b[39m<\u001b[39m \u001b[39m5\u001b[39m:  \u001b[39m# image in CHW\u001b[39;00m\n\u001b[1;32m    689\u001b[0m     im \u001b[39m=\u001b[39m im\u001b[39m.\u001b[39mtranspose((\u001b[39m1\u001b[39m, \u001b[39m2\u001b[39m, \u001b[39m0\u001b[39m))  \u001b[39m# reverse dataloader .transpose(2, 0, 1)\u001b[39;00m\n\u001b[1;32m    690\u001b[0m im \u001b[39m=\u001b[39m im[\u001b[39m.\u001b[39m\u001b[39m.\u001b[39m\u001b[39m.\u001b[39m, :\u001b[39m3\u001b[39m] \u001b[39mif\u001b[39;00m im\u001b[39m.\u001b[39mndim \u001b[39m==\u001b[39m \u001b[39m3\u001b[39m \u001b[39melse\u001b[39;00m cv2\u001b[39m.\u001b[39mcvtColor(im, cv2\u001b[39m.\u001b[39mCOLOR_GRAY2BGR)  \u001b[39m# enforce 3ch input\u001b[39;00m\n",
      "\u001b[0;31mAttributeError\u001b[0m: 'NoneType' object has no attribute 'shape'"
     ]
    }
   ],
   "source": [
    "# define the path of the images\n",
    "imgs_path = './images'\n",
    "\n",
    "# define the output file name and format\n",
    "output_file = 'model_video.mp4'\n",
    "\n",
    "# get the video\n",
    "video = cv2.VideoCapture('video.mp4')\n",
    "\n",
    "# get the codec information and frame size from the video\n",
    "fourcc = int(video.get(cv2.CAP_PROP_FOURCC))\n",
    "fps = int(video.get(cv2.CAP_PROP_FPS))\n",
    "frame_size = (int(video.get(cv2.CAP_PROP_FRAME_WIDTH)), int(video.get(cv2.CAP_PROP_FRAME_HEIGHT)))\n",
    "\n",
    "# create the VideoWriter object\n",
    "out = cv2.VideoWriter(output_file, fourcc, fps, frame_size)\n",
    "\n",
    "while video.isOpened():\n",
    "\n",
    "    # read the frames from video\n",
    "    ret, frames = video.read()\n",
    "\n",
    "    # if there are no frames left, break the loop\n",
    "    if not ret:\n",
    "        break\n",
    "\n",
    "    # result\n",
    "    result = model(frames)\n",
    "\n",
    "    # write the processed frames to the output video\n",
    "    out.write(np.squeeze(result.render()))\n",
    "\n",
    "    # shows the video\n",
    "    cv2.imshow('video', np.squeeze(result.render()))\n",
    "\n",
    "    if cv2.waitKey(10) & 0xFF == ord('q'):\n",
    "        break\n",
    "\n",
    "video.release()\n",
    "out.release()\n",
    "cv2.destroyAllWindows()"
   ]
  },
  {
   "cell_type": "code",
   "execution_count": null,
   "metadata": {},
   "outputs": [],
   "source": []
  },
  {
   "cell_type": "code",
   "execution_count": null,
   "metadata": {},
   "outputs": [],
   "source": []
  },
  {
   "cell_type": "code",
   "execution_count": null,
   "metadata": {},
   "outputs": [],
   "source": []
  },
  {
   "cell_type": "code",
   "execution_count": null,
   "metadata": {},
   "outputs": [],
   "source": []
  },
  {
   "cell_type": "code",
   "execution_count": null,
   "metadata": {},
   "outputs": [],
   "source": []
  },
  {
   "cell_type": "code",
   "execution_count": null,
   "metadata": {},
   "outputs": [],
   "source": []
  }
 ],
 "metadata": {
  "kernelspec": {
   "display_name": "blueylilo-57HCMKa3",
   "language": "python",
   "name": "python3"
  },
  "language_info": {
   "codemirror_mode": {
    "name": "ipython",
    "version": 3
   },
   "file_extension": ".py",
   "mimetype": "text/x-python",
   "name": "python",
   "nbconvert_exporter": "python",
   "pygments_lexer": "ipython3",
   "version": "3.10.9"
  },
  "orig_nbformat": 4
 },
 "nbformat": 4,
 "nbformat_minor": 2
}
